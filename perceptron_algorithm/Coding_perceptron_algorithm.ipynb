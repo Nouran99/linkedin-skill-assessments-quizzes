{
  "nbformat": 4,
  "nbformat_minor": 0,
  "metadata": {
    "kernelspec": {
      "display_name": "Python 3",
      "language": "python",
      "name": "python3"
    },
    "language_info": {
      "codemirror_mode": {
        "name": "ipython",
        "version": 3
      },
      "file_extension": ".py",
      "mimetype": "text/x-python",
      "name": "python",
      "nbconvert_exporter": "python",
      "pygments_lexer": "ipython3",
      "version": "3.7.6"
    },
    "colab": {
      "name": "Coding_perceptron_algorithm.ipynb",
      "provenance": []
    }
  },
  "cells": [
    {
      "cell_type": "markdown",
      "metadata": {
        "id": "tCkvkBzWQfOZ"
      },
      "source": [
        "# Sentiment analysis with the perceptron algorithm\n",
        "\n",
        "### Importing the necessary packages"
      ]
    },
    {
      "cell_type": "code",
      "metadata": {
        "id": "TeSYY-G_QmH3",
        "colab": {
          "base_uri": "https://localhost:8080/"
        },
        "outputId": "9cb82c6c-90e4-4592-a34f-df88d3a8634a"
      },
      "source": [
        "!git clone https://github.com/s7s/machine_learning_1.git\n",
        "%cd  machine_learning_1/perceptron_algorithm"
      ],
      "execution_count": 68,
      "outputs": [
        {
          "output_type": "stream",
          "name": "stdout",
          "text": [
            "Cloning into 'machine_learning_1'...\n",
            "remote: Enumerating objects: 226, done.\u001b[K\n",
            "remote: Counting objects: 100% (226/226), done.\u001b[K\n",
            "remote: Compressing objects: 100% (166/166), done.\u001b[K\n",
            "remote: Total 226 (delta 106), reused 177 (delta 57), pack-reused 0\u001b[K\n",
            "Receiving objects: 100% (226/226), 35.64 MiB | 17.13 MiB/s, done.\n",
            "Resolving deltas: 100% (106/106), done.\n",
            "/content/machine_learning_1/perceptron_algorithm/machine_learning_1/perceptron_algorithm\n"
          ]
        }
      ]
    },
    {
      "cell_type": "code",
      "metadata": {
        "id": "AT65ozh-QfOb"
      },
      "source": [
        "# Importing packages\n",
        "from matplotlib import pyplot as plt\n",
        "import numpy as np\n",
        "import random\n",
        "import utils"
      ],
      "execution_count": 69,
      "outputs": []
    },
    {
      "cell_type": "markdown",
      "metadata": {
        "id": "wU0UAbhaQfOc"
      },
      "source": [
        "### Defining and plotting our dataset"
      ]
    },
    {
      "cell_type": "code",
      "metadata": {
        "id": "__oaZrDfQfOc"
      },
      "source": [
        "features = np.array([[1,0],[0,2],[1,1],[1,2],[1,3],[2,2],[2,3],[3,2]])\n",
        "labels = np.array([0,0,0,0,1,1,1,1])"
      ],
      "execution_count": 70,
      "outputs": []
    },
    {
      "cell_type": "code",
      "metadata": {
        "id": "jVPeVngdQfOc",
        "colab": {
          "base_uri": "https://localhost:8080/",
          "height": 279
        },
        "outputId": "64f9608e-5116-4aa7-808e-fb377217f863"
      },
      "source": [
        "# Plotting the points\n",
        "utils.plot_points(features, labels)\n",
        "\n",
        "# Uncomment the following line to see a good line fit for this data.\n",
        "#utils.draw_line(1,1,-3.5)"
      ],
      "execution_count": 71,
      "outputs": [
        {
          "output_type": "display_data",
          "data": {
            "text/plain": [
              "<Figure size 432x288 with 1 Axes>"
            ],
            "image/png": "[encoded data removed]"
          },
          "metadata": {
            "needs_background": "light"
          }
        }
      ]
    },
    {
      "cell_type": "markdown",
      "metadata": {
        "id": "uakz24K2QfOd"
      },
      "source": [
        "### Coding the perceptron trick"
      ]
    },
    {
      "cell_type": "code",
      "metadata": {
        "id": "6lNtlGVPQfOd"
      },
      "source": [
        "def step(x):\n",
        "    ## TODO ##\n",
        "    # implement step function\n",
        "    if x <0:\n",
        "      output =0\n",
        "    else:\n",
        "      output = 1\n",
        "    return output\n",
        "\n",
        "def score(weights, bias, features):\n",
        "    ## TODO ##\n",
        "    # implement score calculation\n",
        "    a,b = weights\n",
        "    x1,x2 =features\n",
        "    output = a * x1 + b*x2 +bias\n",
        "    return output\n",
        "\n",
        "def prediction(weights, bias, features):\n",
        "    ## TODO ##\n",
        "    # implement prediction calculation using step and score functions\n",
        "    output = step (score(weights, bias, features))\n",
        "    return output\n",
        "\n",
        "def error(weights, bias, features, label):\n",
        "    ## TODO ##\n",
        "    # implement error calculation using prediction and score functions\n",
        "    if label == prediction(weights, bias, features) :\n",
        "      return 0\n",
        "    else:\n",
        "      return np.abs(score(weights, bias, features))\n",
        "\n",
        "def mean_perceptron_error(weights, bias, features, labels):\n",
        "    total_error = 0\n",
        "    for i in range(len(features)):\n",
        "        total_error += error(weights, bias, features[i], labels[i])\n",
        "    return total_error/len(features)"
      ],
      "execution_count": 97,
      "outputs": []
    },
    {
      "cell_type": "code",
      "metadata": {
        "id": "etVteOzuQfOf"
      },
      "source": [
        "def perceptron_trick(weights, bias, features, label, learning_rate = 0.01):\n",
        "    ## TODO ## \n",
        "    # update the weights and bias using a single data sample\n",
        "\n",
        "    weights[0] = weights[0]+ learning_rate * (label -prediction(weights, bias, features)) * features[0]\n",
        "    weights[1] = weights[1]+ learning_rate * (label -prediction(weights, bias, features)) * features[1]\n",
        "    bias =bias + learning_rate *(label -prediction(weights, bias, features))\n",
        "    return weights, bias"
      ],
      "execution_count": 98,
      "outputs": []
    },
    {
      "cell_type": "markdown",
      "metadata": {
        "id": "E4DJcTPOQfOf"
      },
      "source": [
        "### Running the perceptron algorithm"
      ]
    },
    {
      "cell_type": "code",
      "metadata": {
        "id": "_33WBrmcQfOg"
      },
      "source": [
        "random.seed(0)\n",
        "def perceptron_algorithm(features, labels, learning_rate = 0.01, epochs = 200):\n",
        "    weights = [1.0 for i in range(len(features[0]))]\n",
        "    bias = 0.0\n",
        "    errors = []\n",
        "    ## TODO ##\n",
        "    # for this number of epochs \n",
        "    # get a random datasample of our dataset(x,y)\n",
        "    # using the selected datasample use perceptron_trick update weights and bias\n",
        "    for ep in range(epochs) :\n",
        "      feature, label = random.choice(list (zip (features, labels)))\n",
        "      weights, bias = perceptron_trick(weights, bias, feature, label, learning_rate)\n",
        "      errors.append (mean_perceptron_error(weights, bias, features, labels))\n",
        "    utils.draw_line(weights[0], weights[1], bias)\n",
        "    utils.plot_points(features, labels)\n",
        "    plt.ylim([-2, 5])\n",
        "    plt.show()\n",
        "    plt.scatter(range(epochs), errors)\n",
        "    return weights, bias"
      ],
      "execution_count": 102,
      "outputs": []
    },
    {
      "cell_type": "code",
      "source": [
        "print ()"
      ],
      "metadata": {
        "colab": {
          "base_uri": "https://localhost:8080/"
        },
        "id": "mqTp6S4msgLJ",
        "outputId": "69142636-d838-4185-87b1-02921694838f"
      },
      "execution_count": 103,
      "outputs": [
        {
          "output_type": "stream",
          "name": "stdout",
          "text": [
            "\n"
          ]
        }
      ]
    },
    {
      "cell_type": "code",
      "metadata": {
        "id": "l-49WtoMQfOg",
        "colab": {
          "base_uri": "https://localhost:8080/",
          "height": 548
        },
        "outputId": "2f242827-46cf-44cc-a41d-a8ec4ca32cd6"
      },
      "source": [
        "perceptron_algorithm(features, labels)"
      ],
      "execution_count": 104,
      "outputs": [
        {
          "output_type": "display_data",
          "data": {
            "text/plain": [
              "<Figure size 432x288 with 1 Axes>"
            ],
            "image/png": "[encoded data removed]"
          },
          "metadata": {
            "needs_background": "light"
          }
        },
        {
          "output_type": "execute_result",
          "data": {
            "text/plain": [
              "([0.5199999999999996, 0.049999999999999364], -0.6500000000000004)"
            ]
          },
          "metadata": {},
          "execution_count": 104
        },
        {
          "output_type": "display_data",
          "data": {
            "text/plain": [
              "<Figure size 432x288 with 1 Axes>"
            ],
            "image/png": "[encoded data removed]"
          },
          "metadata": {
            "needs_background": "light"
          }
        }
      ]
    },
    {
      "cell_type": "markdown",
      "metadata": {
        "id": "XC_xjAwxQfOg"
      },
      "source": [
        "### The perceptron algorithm using SKlearn"
      ]
    },
    {
      "cell_type": "code",
      "metadata": {
        "id": "J5j8WRAAQfOi",
        "colab": {
          "base_uri": "https://localhost:8080/"
        },
        "outputId": "23d4c050-15b9-48f9-93bd-9d2d1e6390c7"
      },
      "source": [
        "from sklearn.linear_model import Perceptron\n",
        "## TODO ##\n",
        "# Use SKlearn to train perceptron algorithm\n",
        "clf=Perceptron(random_state=42)\n",
        "clf.fit(features, labels)"
      ],
      "execution_count": 76,
      "outputs": [
        {
          "output_type": "execute_result",
          "data": {
            "text/plain": [
              "Perceptron(random_state=42)"
            ]
          },
          "metadata": {},
          "execution_count": 76
        }
      ]
    },
    {
      "cell_type": "code",
      "metadata": {
        "id": "r0zV0RmcUNiR",
        "colab": {
          "base_uri": "https://localhost:8080/"
        },
        "outputId": "97fdf800-f823-450e-c7ec-3442c6e1231d"
      },
      "source": [
        "clf.score(features, labels)"
      ],
      "execution_count": 77,
      "outputs": [
        {
          "output_type": "execute_result",
          "data": {
            "text/plain": [
              "1.0"
            ]
          },
          "metadata": {},
          "execution_count": 77
        }
      ]
    },
    {
      "cell_type": "code",
      "metadata": {
        "id": "UCHrDXAEUiwD",
        "colab": {
          "base_uri": "https://localhost:8080/",
          "height": 279
        },
        "outputId": "84465402-e0b3-4098-a82a-b4fa331a817f"
      },
      "source": [
        "weights = clf.coef_\n",
        "bias = clf.intercept_\n",
        "utils.draw_line(weights[0][0], weights[0][1], bias)\n",
        "utils.plot_points(features, labels)\n",
        "plt.show()"
      ],
      "execution_count": 78,
      "outputs": [
        {
          "output_type": "display_data",
          "data": {
            "text/plain": [
              "<Figure size 432x288 with 1 Axes>"
            ],
            "image/png": "[encoded data removed]"
          },
          "metadata": {
            "needs_background": "light"
          }
        }
      ]
    },
    {
      "cell_type": "code",
      "source": [],
      "metadata": {
        "id": "JDgvLwQEqKQr"
      },
      "execution_count": 78,
      "outputs": []
    }
  ]
}